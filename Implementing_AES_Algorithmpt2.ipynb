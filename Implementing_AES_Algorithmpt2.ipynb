{
  "nbformat": 4,
  "nbformat_minor": 0,
  "metadata": {
    "colab": {
      "provenance": [],
      "authorship_tag": "ABX9TyO0lNoi89WBw9VeiHR0pZ6D",
      "include_colab_link": true
    },
    "kernelspec": {
      "name": "python3",
      "display_name": "Python 3"
    },
    "language_info": {
      "name": "python"
    }
  },
  "cells": [
    {
      "cell_type": "markdown",
      "metadata": {
        "id": "view-in-github",
        "colab_type": "text"
      },
      "source": [
        "<a href=\"https://colab.research.google.com/github/Mreeb/AES-Encryption-and-Stenography-application-/blob/master/Implementing_AES_Algorithmpt2.ipynb\" target=\"_parent\"><img src=\"https://colab.research.google.com/assets/colab-badge.svg\" alt=\"Open In Colab\"/></a>"
      ]
    },
    {
      "cell_type": "markdown",
      "source": [
        "# Muhammad Areeb Khan (2030-0288)"
      ],
      "metadata": {
        "id": "5koMzaU4mgm7"
      }
    },
    {
      "cell_type": "markdown",
      "source": [
        "## AES IMPLEMENTATION"
      ],
      "metadata": {
        "id": "zhRy5NPBnirY"
      }
    },
    {
      "cell_type": "markdown",
      "source": [
        "## USAGE"
      ],
      "metadata": {
        "id": "oGiCVVqpnm95"
      }
    },
    {
      "cell_type": "code",
      "source": [
        "!pip install stegano pycryptodome==3.11.0"
      ],
      "metadata": {
        "colab": {
          "base_uri": "https://localhost:8080/",
          "height": 671
        },
        "id": "qkIhi3I3N2cX",
        "outputId": "354aebd5-94c4-48b7-a7b7-16bd7ed1faf4"
      },
      "execution_count": null,
      "outputs": [
        {
          "output_type": "stream",
          "name": "stdout",
          "text": [
            "Collecting stegano\n",
            "  Downloading stegano-0.11.3-py3-none-any.whl (61 kB)\n",
            "\u001b[2K     \u001b[90m━━━━━━━━━━━━━━━━━━━━━━━━━━━━━━━━━━━━━━━━\u001b[0m \u001b[32m61.5/61.5 kB\u001b[0m \u001b[31m2.0 MB/s\u001b[0m eta \u001b[36m0:00:00\u001b[0m\n",
            "\u001b[?25hCollecting pycryptodome==3.11.0\n",
            "  Downloading pycryptodome-3.11.0-cp35-abi3-manylinux2010_x86_64.whl (1.9 MB)\n",
            "\u001b[2K     \u001b[90m━━━━━━━━━━━━━━━━━━━━━━━━━━━━━━━━━━━━━━━━\u001b[0m \u001b[32m1.9/1.9 MB\u001b[0m \u001b[31m14.3 MB/s\u001b[0m eta \u001b[36m0:00:00\u001b[0m\n",
            "\u001b[?25hCollecting crayons<0.5.0,>=0.4.0 (from stegano)\n",
            "  Downloading crayons-0.4.0-py2.py3-none-any.whl (4.6 kB)\n",
            "Collecting opencv-python<5.0.0.0,>=4.8.1.78 (from stegano)\n",
            "  Downloading opencv_python-4.9.0.80-cp37-abi3-manylinux_2_17_x86_64.manylinux2014_x86_64.whl (62.2 MB)\n",
            "\u001b[2K     \u001b[90m━━━━━━━━━━━━━━━━━━━━━━━━━━━━━━━━━━━━━━━━\u001b[0m \u001b[32m62.2/62.2 MB\u001b[0m \u001b[31m7.5 MB/s\u001b[0m eta \u001b[36m0:00:00\u001b[0m\n",
            "\u001b[?25hCollecting piexif<2.0.0,>=1.1.3 (from stegano)\n",
            "  Downloading piexif-1.1.3-py2.py3-none-any.whl (20 kB)\n",
            "Collecting pillow<11.0,>=9.5 (from stegano)\n",
            "  Downloading pillow-10.2.0-cp310-cp310-manylinux_2_28_x86_64.whl (4.5 MB)\n",
            "\u001b[2K     \u001b[90m━━━━━━━━━━━━━━━━━━━━━━━━━━━━━━━━━━━━━━━━\u001b[0m \u001b[32m4.5/4.5 MB\u001b[0m \u001b[31m49.9 MB/s\u001b[0m eta \u001b[36m0:00:00\u001b[0m\n",
            "\u001b[?25hCollecting colorama (from crayons<0.5.0,>=0.4.0->stegano)\n",
            "  Downloading colorama-0.4.6-py2.py3-none-any.whl (25 kB)\n",
            "Requirement already satisfied: numpy>=1.21.2 in /usr/local/lib/python3.10/dist-packages (from opencv-python<5.0.0.0,>=4.8.1.78->stegano) (1.23.5)\n",
            "Installing collected packages: pycryptodome, pillow, piexif, opencv-python, colorama, crayons, stegano\n",
            "  Attempting uninstall: pillow\n",
            "    Found existing installation: Pillow 9.4.0\n",
            "    Uninstalling Pillow-9.4.0:\n",
            "      Successfully uninstalled Pillow-9.4.0\n",
            "  Attempting uninstall: opencv-python\n",
            "    Found existing installation: opencv-python 4.8.0.76\n",
            "    Uninstalling opencv-python-4.8.0.76:\n",
            "      Successfully uninstalled opencv-python-4.8.0.76\n",
            "\u001b[31mERROR: pip's dependency resolver does not currently take into account all the packages that are installed. This behaviour is the source of the following dependency conflicts.\n",
            "imageio 2.31.6 requires pillow<10.1.0,>=8.3.2, but you have pillow 10.2.0 which is incompatible.\u001b[0m\u001b[31m\n",
            "\u001b[0mSuccessfully installed colorama-0.4.6 crayons-0.4.0 opencv-python-4.9.0.80 piexif-1.1.3 pillow-10.2.0 pycryptodome-3.11.0 stegano-0.11.3\n"
          ]
        },
        {
          "output_type": "display_data",
          "data": {
            "application/vnd.colab-display-data+json": {
              "pip_warning": {
                "packages": [
                  "PIL"
                ]
              }
            }
          },
          "metadata": {}
        }
      ]
    },
    {
      "cell_type": "code",
      "source": [
        "from stegano import lsb\n",
        "from PIL import Image\n",
        "from Crypto.Cipher import AES\n",
        "from Crypto.Random import get_random_bytes\n",
        "from Crypto.Util.Padding import pad, unpad\n",
        "import base64\n",
        "\n",
        "def Generickey():\n",
        "  key = get_random_bytes(32)\n",
        "  key_file_path = \"generic_key.bin\"\n",
        "  with open(key_file_path, \"wb\") as key_file:\n",
        "     key_file.write(key)\n",
        "Generickey()"
      ],
      "metadata": {
        "id": "93-5wOTgc7WU"
      },
      "execution_count": null,
      "outputs": []
    },
    {
      "cell_type": "markdown",
      "source": [
        "# Combined Code"
      ],
      "metadata": {
        "id": "uOwQFkutXOtU"
      }
    },
    {
      "cell_type": "code",
      "source": [
        "from stegano import lsb\n",
        "from PIL import Image\n",
        "from Crypto.Cipher import AES\n",
        "from Crypto.Random import get_random_bytes\n",
        "from Crypto.Util.Padding import pad, unpad\n",
        "import base64\n",
        "\n",
        "def encrypt_aes(input_text, key):\n",
        "    iv = get_random_bytes(16)\n",
        "    cipher = AES.new(key, AES.MODE_CBC, iv)\n",
        "    padded_text = pad(input_text.encode('utf-8'), 16)\n",
        "    ciphertext = cipher.encrypt(padded_text)\n",
        "    encrypted_data = base64.b64encode(iv + ciphertext).decode('utf-8')\n",
        "    return encrypted_data\n",
        "\n",
        "def hide_text(image_path, text_to_hide, output_path):\n",
        "    secret = lsb.hide(image_path, text_to_hide)\n",
        "    secret.save(output_path)\n",
        "\n",
        "def extract_text(image_path):\n",
        "    secret = lsb.reveal(image_path)\n",
        "    return secret\n",
        "\n",
        "def decrypt_aes(encrypted_data, key):\n",
        "    encrypted_data = base64.b64decode(encrypted_data.encode('utf-8'))\n",
        "    iv = encrypted_data[:16]\n",
        "    ciphertext = encrypted_data[16:]\n",
        "    cipher = AES.new(key, AES.MODE_CBC, iv)\n",
        "    decrypted_text = unpad(cipher.decrypt(ciphertext), 16).decode('utf-8')\n",
        "    return decrypted_text\n",
        "\n",
        "\n",
        "input_text = '''The quick brown fox jumps over the lazy dog.\n",
        "This classic sentence contains every letter of the alphabet.\n",
        "It has been used for various purposes in typography and as a test phrase for fonts.\n",
        "The quick brown fox is known for its agility,\n",
        "and the lazy dog is often used to represent a standard character set.'''\n",
        "\n",
        "key = get_random_bytes(16)\n",
        "\n",
        "key_file_path = \"secret_key.bin\"\n",
        "with open(key_file_path, \"wb\") as key_file:\n",
        "    key_file.write(key)\n",
        "\n",
        "\n",
        "\n",
        "cipher_text = encrypt_aes(input_text, key) #convert text to cipher text\n",
        "hide_text(\"image.jpg\", cipher_text, \"/content/output_image.png\") #hide that ciphet text in an Image\n",
        "\n",
        "extracted_text = extract_text(\"/content/output_image.png\") #extract that cipher text from the image fo\n",
        "with open(key_file_path, \"rb\") as key_file:\n",
        "    loaded_key = key_file.read()\n",
        "decrypted_text = decrypt_aes(extracted_text, loaded_key)\n",
        "\n",
        "\n",
        "print(\"Extracted decrypted  text:\", decrypted_text)\n"
      ],
      "metadata": {
        "colab": {
          "base_uri": "https://localhost:8080/",
          "height": 494
        },
        "id": "MdNQxxlmCTLe",
        "outputId": "8f80d5a5-f6c1-454c-ac66-d45a09d325e9"
      },
      "execution_count": null,
      "outputs": [
        {
          "output_type": "error",
          "ename": "UnidentifiedImageError",
          "evalue": "cannot identify image file 'image.jpg'",
          "traceback": [
            "\u001b[0;31m---------------------------------------------------------------------------\u001b[0m",
            "\u001b[0;31mUnidentifiedImageError\u001b[0m                    Traceback (most recent call last)",
            "\u001b[0;32m<ipython-input-13-bd7eab4de2ab>\u001b[0m in \u001b[0;36m<cell line: 48>\u001b[0;34m()\u001b[0m\n\u001b[1;32m     46\u001b[0m \u001b[0;34m\u001b[0m\u001b[0m\n\u001b[1;32m     47\u001b[0m \u001b[0mcipher_text\u001b[0m \u001b[0;34m=\u001b[0m \u001b[0mencrypt_aes\u001b[0m\u001b[0;34m(\u001b[0m\u001b[0minput_text\u001b[0m\u001b[0;34m,\u001b[0m \u001b[0mkey\u001b[0m\u001b[0;34m)\u001b[0m \u001b[0;31m#convert text to cipher text\u001b[0m\u001b[0;34m\u001b[0m\u001b[0;34m\u001b[0m\u001b[0m\n\u001b[0;32m---> 48\u001b[0;31m \u001b[0mhide_text\u001b[0m\u001b[0;34m(\u001b[0m\u001b[0;34m\"image.jpg\"\u001b[0m\u001b[0;34m,\u001b[0m \u001b[0mcipher_text\u001b[0m\u001b[0;34m,\u001b[0m \u001b[0;34m\"/content/output_image.png\"\u001b[0m\u001b[0;34m)\u001b[0m \u001b[0;31m#hide that ciphet text in an Image\u001b[0m\u001b[0;34m\u001b[0m\u001b[0;34m\u001b[0m\u001b[0m\n\u001b[0m\u001b[1;32m     49\u001b[0m \u001b[0;34m\u001b[0m\u001b[0m\n\u001b[1;32m     50\u001b[0m \u001b[0mextracted_text\u001b[0m \u001b[0;34m=\u001b[0m \u001b[0mextract_text\u001b[0m\u001b[0;34m(\u001b[0m\u001b[0;34m\"/content/output_image.png\"\u001b[0m\u001b[0;34m)\u001b[0m \u001b[0;31m#extract that cipher text from the image fo\u001b[0m\u001b[0;34m\u001b[0m\u001b[0;34m\u001b[0m\u001b[0m\n",
            "\u001b[0;32m<ipython-input-13-bd7eab4de2ab>\u001b[0m in \u001b[0;36mhide_text\u001b[0;34m(image_path, text_to_hide, output_path)\u001b[0m\n\u001b[1;32m     15\u001b[0m \u001b[0;34m\u001b[0m\u001b[0m\n\u001b[1;32m     16\u001b[0m \u001b[0;32mdef\u001b[0m \u001b[0mhide_text\u001b[0m\u001b[0;34m(\u001b[0m\u001b[0mimage_path\u001b[0m\u001b[0;34m,\u001b[0m \u001b[0mtext_to_hide\u001b[0m\u001b[0;34m,\u001b[0m \u001b[0moutput_path\u001b[0m\u001b[0;34m)\u001b[0m\u001b[0;34m:\u001b[0m\u001b[0;34m\u001b[0m\u001b[0;34m\u001b[0m\u001b[0m\n\u001b[0;32m---> 17\u001b[0;31m     \u001b[0msecret\u001b[0m \u001b[0;34m=\u001b[0m \u001b[0mlsb\u001b[0m\u001b[0;34m.\u001b[0m\u001b[0mhide\u001b[0m\u001b[0;34m(\u001b[0m\u001b[0mimage_path\u001b[0m\u001b[0;34m,\u001b[0m \u001b[0mtext_to_hide\u001b[0m\u001b[0;34m)\u001b[0m\u001b[0;34m\u001b[0m\u001b[0;34m\u001b[0m\u001b[0m\n\u001b[0m\u001b[1;32m     18\u001b[0m     \u001b[0msecret\u001b[0m\u001b[0;34m.\u001b[0m\u001b[0msave\u001b[0m\u001b[0;34m(\u001b[0m\u001b[0moutput_path\u001b[0m\u001b[0;34m)\u001b[0m\u001b[0;34m\u001b[0m\u001b[0;34m\u001b[0m\u001b[0m\n\u001b[1;32m     19\u001b[0m \u001b[0;34m\u001b[0m\u001b[0m\n",
            "\u001b[0;32m/usr/local/lib/python3.10/dist-packages/stegano/lsb/lsb.py\u001b[0m in \u001b[0;36mhide\u001b[0;34m(image, message, generator, shift, encoding, auto_convert_rgb)\u001b[0m\n\u001b[1;32m     42\u001b[0m     \u001b[0mLSB\u001b[0m \u001b[0;34m(\u001b[0m\u001b[0mLeast\u001b[0m \u001b[0mSignificant\u001b[0m \u001b[0mBit\u001b[0m\u001b[0;34m)\u001b[0m \u001b[0mtechnique\u001b[0m\u001b[0;34m.\u001b[0m\u001b[0;34m\u001b[0m\u001b[0;34m\u001b[0m\u001b[0m\n\u001b[1;32m     43\u001b[0m     \"\"\"\n\u001b[0;32m---> 44\u001b[0;31m     \u001b[0mhider\u001b[0m \u001b[0;34m=\u001b[0m \u001b[0mtools\u001b[0m\u001b[0;34m.\u001b[0m\u001b[0mHider\u001b[0m\u001b[0;34m(\u001b[0m\u001b[0mimage\u001b[0m\u001b[0;34m,\u001b[0m \u001b[0mmessage\u001b[0m\u001b[0;34m,\u001b[0m \u001b[0mencoding\u001b[0m\u001b[0;34m,\u001b[0m \u001b[0mauto_convert_rgb\u001b[0m\u001b[0;34m)\u001b[0m\u001b[0;34m\u001b[0m\u001b[0;34m\u001b[0m\u001b[0m\n\u001b[0m\u001b[1;32m     45\u001b[0m     \u001b[0mwidth\u001b[0m \u001b[0;34m=\u001b[0m \u001b[0mhider\u001b[0m\u001b[0;34m.\u001b[0m\u001b[0mencoded_image\u001b[0m\u001b[0;34m.\u001b[0m\u001b[0mwidth\u001b[0m\u001b[0;34m\u001b[0m\u001b[0;34m\u001b[0m\u001b[0m\n\u001b[1;32m     46\u001b[0m \u001b[0;34m\u001b[0m\u001b[0m\n",
            "\u001b[0;32m/usr/local/lib/python3.10/dist-packages/stegano/tools.py\u001b[0m in \u001b[0;36m__init__\u001b[0;34m(self, input_image, message, encoding, auto_convert_rgb)\u001b[0m\n\u001b[1;32m    127\u001b[0m         \u001b[0;32massert\u001b[0m \u001b[0mmessage_length\u001b[0m \u001b[0;34m!=\u001b[0m \u001b[0;36m0\u001b[0m\u001b[0;34m,\u001b[0m \u001b[0;34m\"message length is zero\"\u001b[0m\u001b[0;34m\u001b[0m\u001b[0;34m\u001b[0m\u001b[0m\n\u001b[1;32m    128\u001b[0m \u001b[0;34m\u001b[0m\u001b[0m\n\u001b[0;32m--> 129\u001b[0;31m         \u001b[0mimage\u001b[0m \u001b[0;34m=\u001b[0m \u001b[0mopen_image\u001b[0m\u001b[0;34m(\u001b[0m\u001b[0minput_image\u001b[0m\u001b[0;34m)\u001b[0m\u001b[0;34m\u001b[0m\u001b[0;34m\u001b[0m\u001b[0m\n\u001b[0m\u001b[1;32m    130\u001b[0m \u001b[0;34m\u001b[0m\u001b[0m\n\u001b[1;32m    131\u001b[0m         \u001b[0;32mif\u001b[0m \u001b[0mimage\u001b[0m\u001b[0;34m.\u001b[0m\u001b[0mmode\u001b[0m \u001b[0;32mnot\u001b[0m \u001b[0;32min\u001b[0m \u001b[0;34m[\u001b[0m\u001b[0;34m\"RGB\"\u001b[0m\u001b[0;34m,\u001b[0m \u001b[0;34m\"RGBA\"\u001b[0m\u001b[0;34m]\u001b[0m\u001b[0;34m:\u001b[0m\u001b[0;34m\u001b[0m\u001b[0;34m\u001b[0m\u001b[0m\n",
            "\u001b[0;32m/usr/local/lib/python3.10/dist-packages/stegano/tools.py\u001b[0m in \u001b[0;36mopen_image\u001b[0;34m(fname_or_instance)\u001b[0m\n\u001b[1;32m    111\u001b[0m         \u001b[0;32mreturn\u001b[0m \u001b[0mfname_or_instance\u001b[0m\u001b[0;34m\u001b[0m\u001b[0;34m\u001b[0m\u001b[0m\n\u001b[1;32m    112\u001b[0m \u001b[0;34m\u001b[0m\u001b[0m\n\u001b[0;32m--> 113\u001b[0;31m     \u001b[0;32mreturn\u001b[0m \u001b[0mImage\u001b[0m\u001b[0;34m.\u001b[0m\u001b[0mopen\u001b[0m\u001b[0;34m(\u001b[0m\u001b[0mfname_or_instance\u001b[0m\u001b[0;34m)\u001b[0m\u001b[0;34m\u001b[0m\u001b[0;34m\u001b[0m\u001b[0m\n\u001b[0m\u001b[1;32m    114\u001b[0m \u001b[0;34m\u001b[0m\u001b[0m\n\u001b[1;32m    115\u001b[0m \u001b[0;34m\u001b[0m\u001b[0m\n",
            "\u001b[0;32m/usr/local/lib/python3.10/dist-packages/PIL/Image.py\u001b[0m in \u001b[0;36mopen\u001b[0;34m(fp, mode, formats)\u001b[0m\n\u001b[1;32m   3281\u001b[0m                 \u001b[0;32mcontinue\u001b[0m\u001b[0;34m\u001b[0m\u001b[0;34m\u001b[0m\u001b[0m\n\u001b[1;32m   3282\u001b[0m             \u001b[0;32mexcept\u001b[0m \u001b[0mBaseException\u001b[0m\u001b[0;34m:\u001b[0m\u001b[0;34m\u001b[0m\u001b[0;34m\u001b[0m\u001b[0m\n\u001b[0;32m-> 3283\u001b[0;31m                 \u001b[0;32mif\u001b[0m \u001b[0mexclusive_fp\u001b[0m\u001b[0;34m:\u001b[0m\u001b[0;34m\u001b[0m\u001b[0;34m\u001b[0m\u001b[0m\n\u001b[0m\u001b[1;32m   3284\u001b[0m                     \u001b[0mfp\u001b[0m\u001b[0;34m.\u001b[0m\u001b[0mclose\u001b[0m\u001b[0;34m(\u001b[0m\u001b[0;34m)\u001b[0m\u001b[0;34m\u001b[0m\u001b[0;34m\u001b[0m\u001b[0m\n\u001b[1;32m   3285\u001b[0m                 \u001b[0;32mraise\u001b[0m\u001b[0;34m\u001b[0m\u001b[0;34m\u001b[0m\u001b[0m\n",
            "\u001b[0;31mUnidentifiedImageError\u001b[0m: cannot identify image file 'image.jpg'"
          ]
        }
      ]
    },
    {
      "cell_type": "markdown",
      "source": [
        "#Encryption"
      ],
      "metadata": {
        "id": "4V3uLC-7XRKU"
      }
    },
    {
      "cell_type": "code",
      "source": [
        "from stegano import lsb\n",
        "from PIL import Image\n",
        "\n",
        "def encrypt_aes(input_text, key):\n",
        "    iv = get_random_bytes(16)\n",
        "    cipher = AES.new(key, AES.MODE_CBC, iv)\n",
        "    padded_text = pad(input_text.encode('utf-8'), 16)\n",
        "    ciphertext = cipher.encrypt(padded_text)\n",
        "    encrypted_data = base64.b64encode(iv + ciphertext).decode('utf-8')\n",
        "    print(encrypted_data)\n",
        "    return encrypted_data\n",
        "\n",
        "def hide_text(image_path, text_to_hide, output_path):\n",
        "    secret = lsb.hide(image_path, text_to_hide)\n",
        "    secret.save(output_path)\n",
        "\n",
        "\n",
        "input_text = '''The quick brown fox jumps over the lazy dog.\n",
        "This classic sentence contains every letter of the alphabet.\n",
        "It has been used for various purposes in typography and as a test phrase for fonts.\n",
        "The quick brown fox is known for its agility,\n",
        "and the lazy dog is often used to represent a standard character set.'''\n",
        "\n",
        "key_file_path = \"generic_key.bin\"\n",
        "with open(key_file_path, \"rb\") as key_file:\n",
        "    key = key_file.read()\n",
        "\n",
        "cipher_text = encrypt_aes(input_text, key) #convert text to cipher text\n",
        "hide_text(\"/content/1.jpeg\", cipher_text, \"/content/output_image.png\") #hide that ciphet text in an Image"
      ],
      "metadata": {
        "colab": {
          "base_uri": "https://localhost:8080/",
          "height": 480
        },
        "id": "5acloxIpDQWL",
        "outputId": "a7bb8344-f706-4594-e02b-5d8d16d4342e"
      },
      "execution_count": null,
      "outputs": [
        {
          "output_type": "stream",
          "name": "stdout",
          "text": [
            "VacpA1Op6u2GPr42LqsI9d/X6iPQrsftD8pituy3rloT8/UhkTAM50ZgMYSdCDEXTpy4Al5H4jn1oaH1aWWuRbMCzDsHV9C0J7AdmrThGauGhFgL/mqbzCs+YwUysXQKzculBsFnaiTceMu/Y8awLnmC+elTrVpTdNgBkvH0RYlNE76y35tkwjUOiZRUAAjy3Oz/jS7F4kjAeHjVNeojRkQbdB49SEQMzxjtkE+074TQtwpKE95yCySiLgKKhKuFKHBnI/+Phqsw68YNkIQBtAYMsuMg2gYmYIKIG2Pw/IkHLoYg+OLWcpDTn+w9Mc/635RdICD97OuLDgFcklx3WdWSP2uJ8zCXOmMrl3bqJmeAj2rueZfXuxt3Lnexa4gg19LgiQpoeM9ZGLlDB+TjR921NbDWz4dBLszrieqAZ9ok62CHaAyzesyYSAZ9A9HY\n"
          ]
        },
        {
          "output_type": "error",
          "ename": "UnidentifiedImageError",
          "evalue": "cannot identify image file '/content/1.jpeg'",
          "traceback": [
            "\u001b[0;31m---------------------------------------------------------------------------\u001b[0m",
            "\u001b[0;31mUnidentifiedImageError\u001b[0m                    Traceback (most recent call last)",
            "\u001b[0;32m<ipython-input-11-bb97db061148>\u001b[0m in \u001b[0;36m<cell line: 29>\u001b[0;34m()\u001b[0m\n\u001b[1;32m     27\u001b[0m \u001b[0;34m\u001b[0m\u001b[0m\n\u001b[1;32m     28\u001b[0m \u001b[0mcipher_text\u001b[0m \u001b[0;34m=\u001b[0m \u001b[0mencrypt_aes\u001b[0m\u001b[0;34m(\u001b[0m\u001b[0minput_text\u001b[0m\u001b[0;34m,\u001b[0m \u001b[0mkey\u001b[0m\u001b[0;34m)\u001b[0m \u001b[0;31m#convert text to cipher text\u001b[0m\u001b[0;34m\u001b[0m\u001b[0;34m\u001b[0m\u001b[0m\n\u001b[0;32m---> 29\u001b[0;31m \u001b[0mhide_text\u001b[0m\u001b[0;34m(\u001b[0m\u001b[0;34m\"/content/1.jpeg\"\u001b[0m\u001b[0;34m,\u001b[0m \u001b[0mcipher_text\u001b[0m\u001b[0;34m,\u001b[0m \u001b[0;34m\"/content/output_image.png\"\u001b[0m\u001b[0;34m)\u001b[0m \u001b[0;31m#hide that ciphet text in an Image\u001b[0m\u001b[0;34m\u001b[0m\u001b[0;34m\u001b[0m\u001b[0m\n\u001b[0m",
            "\u001b[0;32m<ipython-input-11-bb97db061148>\u001b[0m in \u001b[0;36mhide_text\u001b[0;34m(image_path, text_to_hide, output_path)\u001b[0m\n\u001b[1;32m     12\u001b[0m \u001b[0;34m\u001b[0m\u001b[0m\n\u001b[1;32m     13\u001b[0m \u001b[0;32mdef\u001b[0m \u001b[0mhide_text\u001b[0m\u001b[0;34m(\u001b[0m\u001b[0mimage_path\u001b[0m\u001b[0;34m,\u001b[0m \u001b[0mtext_to_hide\u001b[0m\u001b[0;34m,\u001b[0m \u001b[0moutput_path\u001b[0m\u001b[0;34m)\u001b[0m\u001b[0;34m:\u001b[0m\u001b[0;34m\u001b[0m\u001b[0;34m\u001b[0m\u001b[0m\n\u001b[0;32m---> 14\u001b[0;31m     \u001b[0msecret\u001b[0m \u001b[0;34m=\u001b[0m \u001b[0mlsb\u001b[0m\u001b[0;34m.\u001b[0m\u001b[0mhide\u001b[0m\u001b[0;34m(\u001b[0m\u001b[0mimage_path\u001b[0m\u001b[0;34m,\u001b[0m \u001b[0mtext_to_hide\u001b[0m\u001b[0;34m)\u001b[0m\u001b[0;34m\u001b[0m\u001b[0;34m\u001b[0m\u001b[0m\n\u001b[0m\u001b[1;32m     15\u001b[0m     \u001b[0msecret\u001b[0m\u001b[0;34m.\u001b[0m\u001b[0msave\u001b[0m\u001b[0;34m(\u001b[0m\u001b[0moutput_path\u001b[0m\u001b[0;34m)\u001b[0m\u001b[0;34m\u001b[0m\u001b[0;34m\u001b[0m\u001b[0m\n\u001b[1;32m     16\u001b[0m \u001b[0;34m\u001b[0m\u001b[0m\n",
            "\u001b[0;32m/usr/local/lib/python3.10/dist-packages/stegano/lsb/lsb.py\u001b[0m in \u001b[0;36mhide\u001b[0;34m(image, message, generator, shift, encoding, auto_convert_rgb)\u001b[0m\n\u001b[1;32m     42\u001b[0m     \u001b[0mLSB\u001b[0m \u001b[0;34m(\u001b[0m\u001b[0mLeast\u001b[0m \u001b[0mSignificant\u001b[0m \u001b[0mBit\u001b[0m\u001b[0;34m)\u001b[0m \u001b[0mtechnique\u001b[0m\u001b[0;34m.\u001b[0m\u001b[0;34m\u001b[0m\u001b[0;34m\u001b[0m\u001b[0m\n\u001b[1;32m     43\u001b[0m     \"\"\"\n\u001b[0;32m---> 44\u001b[0;31m     \u001b[0mhider\u001b[0m \u001b[0;34m=\u001b[0m \u001b[0mtools\u001b[0m\u001b[0;34m.\u001b[0m\u001b[0mHider\u001b[0m\u001b[0;34m(\u001b[0m\u001b[0mimage\u001b[0m\u001b[0;34m,\u001b[0m \u001b[0mmessage\u001b[0m\u001b[0;34m,\u001b[0m \u001b[0mencoding\u001b[0m\u001b[0;34m,\u001b[0m \u001b[0mauto_convert_rgb\u001b[0m\u001b[0;34m)\u001b[0m\u001b[0;34m\u001b[0m\u001b[0;34m\u001b[0m\u001b[0m\n\u001b[0m\u001b[1;32m     45\u001b[0m     \u001b[0mwidth\u001b[0m \u001b[0;34m=\u001b[0m \u001b[0mhider\u001b[0m\u001b[0;34m.\u001b[0m\u001b[0mencoded_image\u001b[0m\u001b[0;34m.\u001b[0m\u001b[0mwidth\u001b[0m\u001b[0;34m\u001b[0m\u001b[0;34m\u001b[0m\u001b[0m\n\u001b[1;32m     46\u001b[0m \u001b[0;34m\u001b[0m\u001b[0m\n",
            "\u001b[0;32m/usr/local/lib/python3.10/dist-packages/stegano/tools.py\u001b[0m in \u001b[0;36m__init__\u001b[0;34m(self, input_image, message, encoding, auto_convert_rgb)\u001b[0m\n\u001b[1;32m    127\u001b[0m         \u001b[0;32massert\u001b[0m \u001b[0mmessage_length\u001b[0m \u001b[0;34m!=\u001b[0m \u001b[0;36m0\u001b[0m\u001b[0;34m,\u001b[0m \u001b[0;34m\"message length is zero\"\u001b[0m\u001b[0;34m\u001b[0m\u001b[0;34m\u001b[0m\u001b[0m\n\u001b[1;32m    128\u001b[0m \u001b[0;34m\u001b[0m\u001b[0m\n\u001b[0;32m--> 129\u001b[0;31m         \u001b[0mimage\u001b[0m \u001b[0;34m=\u001b[0m \u001b[0mopen_image\u001b[0m\u001b[0;34m(\u001b[0m\u001b[0minput_image\u001b[0m\u001b[0;34m)\u001b[0m\u001b[0;34m\u001b[0m\u001b[0;34m\u001b[0m\u001b[0m\n\u001b[0m\u001b[1;32m    130\u001b[0m \u001b[0;34m\u001b[0m\u001b[0m\n\u001b[1;32m    131\u001b[0m         \u001b[0;32mif\u001b[0m \u001b[0mimage\u001b[0m\u001b[0;34m.\u001b[0m\u001b[0mmode\u001b[0m \u001b[0;32mnot\u001b[0m \u001b[0;32min\u001b[0m \u001b[0;34m[\u001b[0m\u001b[0;34m\"RGB\"\u001b[0m\u001b[0;34m,\u001b[0m \u001b[0;34m\"RGBA\"\u001b[0m\u001b[0;34m]\u001b[0m\u001b[0;34m:\u001b[0m\u001b[0;34m\u001b[0m\u001b[0;34m\u001b[0m\u001b[0m\n",
            "\u001b[0;32m/usr/local/lib/python3.10/dist-packages/stegano/tools.py\u001b[0m in \u001b[0;36mopen_image\u001b[0;34m(fname_or_instance)\u001b[0m\n\u001b[1;32m    111\u001b[0m         \u001b[0;32mreturn\u001b[0m \u001b[0mfname_or_instance\u001b[0m\u001b[0;34m\u001b[0m\u001b[0;34m\u001b[0m\u001b[0m\n\u001b[1;32m    112\u001b[0m \u001b[0;34m\u001b[0m\u001b[0m\n\u001b[0;32m--> 113\u001b[0;31m     \u001b[0;32mreturn\u001b[0m \u001b[0mImage\u001b[0m\u001b[0;34m.\u001b[0m\u001b[0mopen\u001b[0m\u001b[0;34m(\u001b[0m\u001b[0mfname_or_instance\u001b[0m\u001b[0;34m)\u001b[0m\u001b[0;34m\u001b[0m\u001b[0;34m\u001b[0m\u001b[0m\n\u001b[0m\u001b[1;32m    114\u001b[0m \u001b[0;34m\u001b[0m\u001b[0m\n\u001b[1;32m    115\u001b[0m \u001b[0;34m\u001b[0m\u001b[0m\n",
            "\u001b[0;32m/usr/local/lib/python3.10/dist-packages/PIL/Image.py\u001b[0m in \u001b[0;36mopen\u001b[0;34m(fp, mode, formats)\u001b[0m\n\u001b[1;32m   3281\u001b[0m                 \u001b[0;32mcontinue\u001b[0m\u001b[0;34m\u001b[0m\u001b[0;34m\u001b[0m\u001b[0m\n\u001b[1;32m   3282\u001b[0m             \u001b[0;32mexcept\u001b[0m \u001b[0mBaseException\u001b[0m\u001b[0;34m:\u001b[0m\u001b[0;34m\u001b[0m\u001b[0;34m\u001b[0m\u001b[0m\n\u001b[0;32m-> 3283\u001b[0;31m                 \u001b[0;32mif\u001b[0m \u001b[0mexclusive_fp\u001b[0m\u001b[0;34m:\u001b[0m\u001b[0;34m\u001b[0m\u001b[0;34m\u001b[0m\u001b[0m\n\u001b[0m\u001b[1;32m   3284\u001b[0m                     \u001b[0mfp\u001b[0m\u001b[0;34m.\u001b[0m\u001b[0mclose\u001b[0m\u001b[0;34m(\u001b[0m\u001b[0;34m)\u001b[0m\u001b[0;34m\u001b[0m\u001b[0;34m\u001b[0m\u001b[0m\n\u001b[1;32m   3285\u001b[0m                 \u001b[0;32mraise\u001b[0m\u001b[0;34m\u001b[0m\u001b[0;34m\u001b[0m\u001b[0m\n",
            "\u001b[0;31mUnidentifiedImageError\u001b[0m: cannot identify image file '/content/1.jpeg'"
          ]
        }
      ]
    },
    {
      "cell_type": "markdown",
      "source": [
        "# Decryption"
      ],
      "metadata": {
        "id": "Bbpp3_O5XTfB"
      }
    },
    {
      "cell_type": "code",
      "source": [
        "def extract_text(image_path):\n",
        "    secret = lsb.reveal(image_path)\n",
        "    return secret\n",
        "\n",
        "def decrypt_aes(encrypted_data, key):\n",
        "    encrypted_data = base64.b64decode(encrypted_data.encode('utf-8'))\n",
        "    iv = encrypted_data[:16]\n",
        "    ciphertext = encrypted_data[16:]\n",
        "    cipher = AES.new(key, AES.MODE_CBC, iv)\n",
        "    decrypted_text = unpad(cipher.decrypt(ciphertext), 16).decode('utf-8')\n",
        "    return decrypted_text\n",
        "\n",
        "extracted_text = extract_text(\"/content/output_image.png\") #extract that cipher text from the image fo\n",
        "with open(key_file_path, \"rb\") as key_file:\n",
        "    loaded_key = key_file.read()\n",
        "decrypted_text = decrypt_aes(extracted_text, loaded_key)\n",
        "\n",
        "\n",
        "print(\"Extracted decrypted  text:\", decrypted_text)"
      ],
      "metadata": {
        "colab": {
          "base_uri": "https://localhost:8080/"
        },
        "id": "3Hjglt75XWnJ",
        "outputId": "716c6207-f241-49d8-bd35-23d52d3e7830"
      },
      "execution_count": null,
      "outputs": [
        {
          "output_type": "stream",
          "name": "stdout",
          "text": [
            "Extracted decrypted  text: The quick brown fox jumps over the lazy dog.\n",
            "This classic sentence contains every letter of the alphabet.\n",
            "It has been used for various purposes in typography and as a test phrase for fonts.\n",
            "The quick brown fox is known for its agility,\n",
            "and the lazy dog is often used to represent a standard character set.\n"
          ]
        }
      ]
    },
    {
      "cell_type": "code",
      "source": [],
      "metadata": {
        "id": "XZ2tq_WVXmQU"
      },
      "execution_count": null,
      "outputs": []
    }
  ]
}